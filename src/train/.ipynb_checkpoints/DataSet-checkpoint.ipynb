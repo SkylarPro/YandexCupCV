{
 "cells": [
  {
   "cell_type": "code",
   "execution_count": 1,
   "id": "equal-paraguay",
   "metadata": {},
   "outputs": [],
   "source": [
    "import torch\n",
    "import torch.nn as nn\n",
    "import pandas as pd\n",
    "from torch.utils.data import Dataset\n",
    "\n",
    "\n",
    "from typing import List, Tuple, Dict\n",
    "\n",
    "\n",
    "import multiprocessing  as mp\n",
    "import requests\n",
    "import jsonlines\n",
    "from tqdm import tqdm\n",
    "import time"
   ]
  },
  {
   "cell_type": "code",
   "execution_count": 6,
   "id": "refined-sheep",
   "metadata": {},
   "outputs": [],
   "source": [
    "class Sent2textDataset(Dataset):\n",
    "    \n",
    "    def __init__(self,path_t_csv, path_i_json, path_i_folder = None, \n",
    "                 clastering_mode = False, transform = None):\n",
    "        \"\"\"\n",
    "        path_t_csv - путь до csv файла с текстами\n",
    "        path_i_json - путь до json файла с картинками\n",
    "        path_i_folder - путь для сохранения скаченных фотографий\n",
    "        clastering_mode - тексты разбиты на кластеры\n",
    "        \"\"\"\n",
    "        self.text_data = path_t_csv #pd.read_csv(path_t_csv)\n",
    "        self.img_links = self._load_json_links(path_i_json)\n",
    "        \n",
    "        self.path_to_img = path_i_folder if path_i_folder else path_i_json\n",
    "        \n",
    "        manager = mp.Manager()\n",
    "        self._imgs_path = manager.Queue()\n",
    "        self._load_imgs(list(self.img_links.items()),n_workers = 16)\n",
    "        \n",
    "    def __len__(self,):\n",
    "        return self.text_data.id_img.unique().shape[0]\n",
    "    \n",
    "    def __getitem__():\n",
    "        pass\n",
    "        \n",
    "    \n",
    "    def _load_json_links(self,data_path: str, only_i_from_csv = True)->Dict[int, Tuple[str,str]]:\n",
    "        data = []\n",
    "        only_csv_links = []\n",
    "        with jsonlines.open(data_path) as reader:\n",
    "            reader = tqdm(reader)\n",
    "            for obj in reader:\n",
    "                data.append((obj['image'], obj['url']))\n",
    "                \n",
    "        if only_i_from_csv:\n",
    "            #скачивать изображения принадлежащие csv\n",
    "            only_csv_links = {idx: data[idx] for idx in self.text_data.id_img.unique()}\n",
    "            return only_csv_links\n",
    "        \n",
    "        return data\n",
    "    \n",
    "    \n",
    "    def _worker(self,task):\n",
    "        paths_img = self._load_img(task)\n",
    "        self._imgs_path.put(paths_img)\n",
    "        \n",
    "    \n",
    "    def _load_img(self,links: Tuple[int,Tuple[str,str]])->int:\n",
    "        try:\n",
    "            response = requests.get(f\"{links[1][1]}\")\n",
    "            with open(f\"{self.path_to_img}/{links[1][0]}.jpg\", \"wb\") as img:\n",
    "                img.write(response.content)\n",
    "            return links[0]\n",
    "        except requests.exceptions.ConnectionError as e:\n",
    "            print(f\"Oyy, miss {links[0]}\")\n",
    "            \n",
    "    def _load_imgs(self, links: List[Tuple[int, Tuple[str,str]]], n_workers = 1)->bool:\n",
    "        all_row = set(self.text_data.id_img.unique())\n",
    "        return_row = set()\n",
    "        all_len = len(all_row)\n",
    "        print(links)\n",
    "        with mp.Pool(n_workers) as p:\n",
    "            p.map(self._worker, links)\n",
    "            \n",
    "            for _ in range(len(links)):\n",
    "                return_row.add(self._imgs_path.get())\n",
    "                \n",
    "        all_row.difference_update(return_row)\n",
    "        \n",
    "        for row in all_row:\n",
    "             self.text_data = self.text_data.drop(self.text_data[self.text_data.id_img == row].index)\n",
    "        \n",
    "        assert all_len - len(all_row) == len(self.text_data.id_img.unique())\n",
    "        \n",
    "        print(f\"Download photo {all_len - len(all_row)} with {all_len} finish\")\n",
    "        return True"
   ]
  },
  {
   "cell_type": "code",
   "execution_count": null,
   "id": "english-camel",
   "metadata": {},
   "outputs": [],
   "source": [
    "path_t_csv_no_clastr = pd.read_csv(\"data/preproc_text700.csv\")[1000:2000] #\"data/preproc_text700.csv\"\n",
    "path_i_json = \"data/images.json\"\n",
    "path_i_folder = \"data/images\"\n",
    "\n",
    "ds = Sent2textDataset(path_t_csv_no_clastr, path_i_json, path_i_folder)"
   ]
  },
  {
   "cell_type": "code",
   "execution_count": 14,
   "id": "contemporary-participation",
   "metadata": {},
   "outputs": [
    {
     "data": {
      "text/html": [
       "<div>\n",
       "<style scoped>\n",
       "    .dataframe tbody tr th:only-of-type {\n",
       "        vertical-align: middle;\n",
       "    }\n",
       "\n",
       "    .dataframe tbody tr th {\n",
       "        vertical-align: top;\n",
       "    }\n",
       "\n",
       "    .dataframe thead th {\n",
       "        text-align: right;\n",
       "    }\n",
       "</style>\n",
       "<table border=\"1\" class=\"dataframe\">\n",
       "  <thead>\n",
       "    <tr style=\"text-align: right;\">\n",
       "      <th></th>\n",
       "      <th>text_proc</th>\n",
       "      <th>id_img</th>\n",
       "    </tr>\n",
       "  </thead>\n",
       "  <tbody>\n",
       "    <tr>\n",
       "      <th>1000</th>\n",
       "      <td>одноэтажный дом до м</td>\n",
       "      <td>941193</td>\n",
       "    </tr>\n",
       "    <tr>\n",
       "      <th>1001</th>\n",
       "      <td>соколов промокод на подвеску</td>\n",
       "      <td>941193</td>\n",
       "    </tr>\n",
       "    <tr>\n",
       "      <th>1002</th>\n",
       "      <td>диета при белок теряющей энтеропатии после опе...</td>\n",
       "      <td>941193</td>\n",
       "    </tr>\n",
       "    <tr>\n",
       "      <th>1003</th>\n",
       "      <td>чудо природа с овощ</td>\n",
       "      <td>1370697</td>\n",
       "    </tr>\n",
       "    <tr>\n",
       "      <th>1004</th>\n",
       "      <td>сапоги молочного цвет с ч рный колготки</td>\n",
       "      <td>1370697</td>\n",
       "    </tr>\n",
       "    <tr>\n",
       "      <th>...</th>\n",
       "      <td>...</td>\n",
       "      <td>...</td>\n",
       "    </tr>\n",
       "    <tr>\n",
       "      <th>1995</th>\n",
       "      <td>схема акпп тойота камри грация</td>\n",
       "      <td>4731110</td>\n",
       "    </tr>\n",
       "    <tr>\n",
       "      <th>1996</th>\n",
       "      <td>структура занятия в детский сад по чтение худо...</td>\n",
       "      <td>4731110</td>\n",
       "    </tr>\n",
       "    <tr>\n",
       "      <th>1997</th>\n",
       "      <td>теплый пол в ванной фотобанк</td>\n",
       "      <td>4731110</td>\n",
       "    </tr>\n",
       "    <tr>\n",
       "      <th>1998</th>\n",
       "      <td>тотемы животное этный тату</td>\n",
       "      <td>1444968</td>\n",
       "    </tr>\n",
       "    <tr>\n",
       "      <th>1999</th>\n",
       "      <td>к другим адресным устройство</td>\n",
       "      <td>1444968</td>\n",
       "    </tr>\n",
       "  </tbody>\n",
       "</table>\n",
       "<p>978 rows × 2 columns</p>\n",
       "</div>"
      ],
      "text/plain": [
       "                                              text_proc   id_img\n",
       "1000                               одноэтажный дом до м   941193\n",
       "1001                       соколов промокод на подвеску   941193\n",
       "1002  диета при белок теряющей энтеропатии после опе...   941193\n",
       "1003                                чудо природа с овощ  1370697\n",
       "1004            сапоги молочного цвет с ч рный колготки  1370697\n",
       "...                                                 ...      ...\n",
       "1995                     схема акпп тойота камри грация  4731110\n",
       "1996  структура занятия в детский сад по чтение худо...  4731110\n",
       "1997                       теплый пол в ванной фотобанк  4731110\n",
       "1998                         тотемы животное этный тату  1444968\n",
       "1999                       к другим адресным устройство  1444968\n",
       "\n",
       "[978 rows x 2 columns]"
      ]
     },
     "execution_count": 14,
     "metadata": {},
     "output_type": "execute_result"
    }
   ],
   "source": [
    "ds.text_data"
   ]
  },
  {
   "cell_type": "code",
   "execution_count": 15,
   "id": "beautiful-thunder",
   "metadata": {},
   "outputs": [
    {
     "data": {
      "text/plain": [
       "(1095883,\n",
       " 'https://club.season.ru/uploads/post/33693/274/post-33693-1351611274.jpg')"
      ]
     },
     "execution_count": 15,
     "metadata": {},
     "output_type": "execute_result"
    }
   ],
   "source": [
    "ds.img_links[941193]"
   ]
  },
  {
   "cell_type": "code",
   "execution_count": null,
   "id": "excellent-morning",
   "metadata": {},
   "outputs": [],
   "source": []
  },
  {
   "cell_type": "code",
   "execution_count": 7,
   "id": "freelance-trinity",
   "metadata": {},
   "outputs": [],
   "source": [
    "!rm -rf  data/images"
   ]
  },
  {
   "cell_type": "code",
   "execution_count": 8,
   "id": "certain-specification",
   "metadata": {},
   "outputs": [
    {
     "name": "stdout",
     "output_type": "stream",
     "text": [
      "images.json  metadata.json  preproc_text700.csv\r\n"
     ]
    }
   ],
   "source": [
    "!ls data/\n",
    "!mkdir data/images"
   ]
  },
  {
   "cell_type": "code",
   "execution_count": null,
   "id": "loose-momentum",
   "metadata": {},
   "outputs": [],
   "source": []
  }
 ],
 "metadata": {
  "kernelspec": {
   "display_name": "Python 3",
   "language": "python",
   "name": "python3"
  },
  "language_info": {
   "codemirror_mode": {
    "name": "ipython",
    "version": 3
   },
   "file_extension": ".py",
   "mimetype": "text/x-python",
   "name": "python",
   "nbconvert_exporter": "python",
   "pygments_lexer": "ipython3",
   "version": "3.8.5"
  }
 },
 "nbformat": 4,
 "nbformat_minor": 5
}
