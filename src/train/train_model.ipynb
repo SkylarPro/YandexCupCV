{
 "cells": [
  {
   "cell_type": "code",
   "execution_count": 1,
   "id": "handled-difference",
   "metadata": {},
   "outputs": [],
   "source": [
    "# import Sent2textDataset\n",
    "import torch\n",
    "from sklearn.metrics import precision_score\n",
    "from torch.utils.data import DataLoader\n",
    "\n",
    "\n",
    "\n",
    "\n",
    "import pandas as pd\n",
    "from sklearn.metrics import f1_score\n",
    "from CustomDataset import Sent2textDataset\n",
    "# !rm -rf  data/images\n",
    "# !ls data/\n",
    "# !mkdir data/images\n",
    "\n",
    "# model, args = load_weights_only(\"ViT-B/32-small\",seq_length = 12)"
   ]
  },
  {
   "cell_type": "code",
   "execution_count": 2,
   "id": "vanilla-hunger",
   "metadata": {},
   "outputs": [],
   "source": [
    "from load_model import load_model"
   ]
  },
  {
   "cell_type": "code",
   "execution_count": 3,
   "id": "secondary-brake",
   "metadata": {},
   "outputs": [],
   "source": [
    "import numpy as np\n",
    "from torch.utils.data import SubsetRandomSampler\n",
    "def sempler(data_train, batch_size = 4,split = .8):\n",
    "    \n",
    "    data_size = len(data_train)\n",
    "\n",
    "    validation_split = split\n",
    "    split = int(np.floor(validation_split * data_size))\n",
    "    indices = list(range(data_size))\n",
    "    np.random.shuffle(indices)\n",
    "\n",
    "    train_indices,val_indices = indices[split:],indices[:split]\n",
    "\n",
    "    train_sampler = SubsetRandomSampler(train_indices)\n",
    "    val_sampler = SubsetRandomSampler(val_indices)\n",
    "    \n",
    "\n",
    "    train_loader = torch.utils.data.DataLoader(data_train, batch_size=batch_size,\n",
    "                                              sampler=train_sampler,)\n",
    "    \n",
    "    val_loader = torch.utils.data.DataLoader(data_train, batch_size=batch_size,\n",
    "                                            sampler=val_sampler,)\n",
    "\n",
    "    return train_loader,val_loader"
   ]
  },
  {
   "cell_type": "code",
   "execution_count": 4,
   "id": "conservative-dancing",
   "metadata": {},
   "outputs": [],
   "source": [
    "n_classes = 5\n",
    "\n",
    "def train_model(model, train_loader, val_loader, loss, optimizer, num_epochs):\n",
    "    loss_history = []\n",
    "    train_history = []\n",
    "    val_history = []\n",
    "    val_loss_hist = []\n",
    "    metric_y_val = metric_p_val = None\n",
    "    \n",
    "#     scheduler = lr_scheduler.CosineAnnealingWarmRestarts(optimizer,\n",
    "#                                                   T_0=40, \n",
    "#                                                   T_mult=2,\n",
    "#                                                   eta_min=1e-9)\n",
    "    for epoch in range(num_epochs):\n",
    "        \n",
    "        print(epoch)\n",
    "        model.train()\n",
    "        \n",
    "        correct_samples = 0\n",
    "        total_samples = 0\n",
    "        loss_accum = 0\n",
    "        for i_step, data  in enumerate(train_loader):\n",
    "            \n",
    "            \n",
    "                imgs_gpu = torch.squeeze(data[0].cuda(),1)\n",
    "                texts_gpu = data[1].cuda()\n",
    "                att_mask_gpu = data[2].cuda()\n",
    "                label_gpu = torch.arange(data[0].shape[0]).cuda()\n",
    "                \n",
    "                \n",
    "                _, prediction = model(img_input={\"x\": imgs_gpu},\n",
    "                                    text_input={\"x\": texts_gpu, \"attention_mask\":att_mask_gpu})\n",
    "                \n",
    "            \n",
    "                loss_value = loss(prediction, label_gpu)\n",
    "                \n",
    "                _, preds = torch.max(prediction, 1)\n",
    "                \n",
    "\n",
    "                optimizer.zero_grad()\n",
    "                loss_value.backward()\n",
    "                optimizer.step()\n",
    "                \n",
    "                \n",
    "                if i_step == 0 and epoch == 0:\n",
    "                    metric_y = label_gpu.cpu().numpy()\n",
    "                    metric_p = preds.cpu().numpy()\n",
    "                else:\n",
    "                    metric_y = np.concatenate((metric_y, label_gpu.cpu().numpy()))\n",
    "                    metric_p = np.concatenate((metric_p, preds.cpu().numpy())) \n",
    "                    \n",
    "                correct_samples += torch.sum(preds == label_gpu)\n",
    "                loss_accum += loss_value\n",
    "                total_samples += label_gpu.shape[0]\n",
    "                \n",
    "                del imgs_gpu\n",
    "                del texts_gpu\n",
    "                del att_mask_gpu\n",
    "            \n",
    "                del label_gpu\n",
    "        \n",
    "        \n",
    "        ave_loss = loss_accum / (i_step + 1)\n",
    "        train_accuracy = correct_samples / total_samples\n",
    "#         writer.add_scalar(\"Loss/train\", ave_loss, epoch)\n",
    "#         writer.add_scalar(\"Acc/train\", train_accuracy, epoch)\n",
    "#         writer.add_scalar(\"F1/train\", f1_score(metric_y,metric_p), epoch)\n",
    "\n",
    "        val_accuracy, loss_val,metric_y_val, metric_p_val = compute_valid(model, val_loader, loss, epoch,metric_y_val, metric_p_val)\n",
    "#         writer.add_scalar(\"Loss/valid\", loss_val, epoch)\n",
    "#         writer.add_scalar(\"Acc/valid\", val_accuracy, epoch)\n",
    "#         writer.add_scalar(\"F1/valid\", f1_score(metric_y_val,metric_p_val), epoch)\n",
    "        \n",
    "#         writer.add_scalar(\"Lr/epoch\", scheduler.get_last_lr()[-1], epoch)\n",
    "#         scheduler.step(epoch)\n",
    "        \n",
    "        loss_history.append(float(ave_loss))\n",
    "        train_history.append(train_accuracy)\n",
    "        val_history.append(val_accuracy)\n",
    "        val_loss_hist.append(loss_val)\n",
    "        \n",
    "\n",
    "        print(\"Average loss: %f, Val loss: %f, Train accuracy: %f, Val accuracy: %f\" % (ave_loss,loss_val, train_accuracy, val_accuracy))\n",
    "    return metric_y_val, metric_p_val\n",
    "#         print('Epoch:', epoch, 'LR:', scheduler.get_last_lr())\n",
    "\n",
    "def compute_valid(model, loader, loss,epoch, metric_y= None, metric_p=None):\n",
    "    model.eval()\n",
    "    with torch.no_grad():\n",
    "        correct_samples = 0\n",
    "        total_samples = 0\n",
    "        loss_accum = 0\n",
    "        \n",
    "        for i_step, data in enumerate(loader):\n",
    "            \n",
    "            imgs_gpu = torch.squeeze(data[0].cuda(),1)\n",
    "            texts_gpu = data[1].cuda()\n",
    "            att_mask_gpu = data[2].cuda()\n",
    "            label_gpu = torch.arange(data[0].shape[0]).cuda()\n",
    "\n",
    "            _, prediction = model(img_input={\"x\": imgs_gpu},\n",
    "                                    text_input={\"x\": texts_gpu, \"attention_mask\":att_mask_gpu})\n",
    "            \n",
    "            \n",
    "            loss_value = loss(prediction, label_gpu)\n",
    "            _, preds = torch.max(prediction, 1)\n",
    "            \n",
    "            if i_step == 0 and epoch == 0:\n",
    "                metric_y = label_gpu.cpu().numpy()\n",
    "                metric_p = preds.cpu().numpy()\n",
    "            else:\n",
    "                metric_y = np.concatenate((metric_y, label_gpu.cpu().numpy()))\n",
    "                metric_p = np.concatenate((metric_p, preds.cpu().numpy())) \n",
    "            \n",
    "            \n",
    "            correct_samples += torch.sum(preds == label_gpu)\n",
    "            total_samples += label_gpu.shape[0]\n",
    "            loss_accum += loss_value\n",
    "\n",
    "            del imgs_gpu\n",
    "            del texts_gpu\n",
    "            del att_mask_gpu\n",
    "            \n",
    "            del label_gpu\n",
    "                \n",
    "        loss_val = loss_accum / (i_step + 1)\n",
    "        val_accuracy = correct_samples / total_samples\n",
    "        return val_accuracy, loss_val, metric_y, metric_p"
   ]
  },
  {
   "cell_type": "code",
   "execution_count": 5,
   "id": "northern-collection",
   "metadata": {},
   "outputs": [
    {
     "name": "stderr",
     "output_type": "stream",
     "text": [
      "/home/viktor.kumpan/.miniconda3/lib/python3.8/site-packages/torchvision/transforms/transforms.py:257: UserWarning: Argument interpolation should be of type InterpolationMode instead of int. Please, use InterpolationMode enum.\n",
      "  warnings.warn(\n"
     ]
    }
   ],
   "source": [
    "model, img_transfrom, text_tokenizer = load_model()"
   ]
  },
  {
   "cell_type": "code",
   "execution_count": 6,
   "id": "heavy-burke",
   "metadata": {},
   "outputs": [
    {
     "name": "stderr",
     "output_type": "stream",
     "text": [
      "5462418it [00:12, 434332.73it/s]\n"
     ]
    },
    {
     "name": "stdout",
     "output_type": "stream",
     "text": [
      "2278 images in folder from 2500 in csv file\n"
     ]
    }
   ],
   "source": [
    "path_t_csv = pd.read_csv(\"data/60k_data_preproc.csv\")[:2500] #\n",
    "path_i_json = \"data/images.json\"\n",
    "path_i_folder = \"data/images\"\n",
    "\n",
    "\n",
    "# в csv file для каждого касса должен быть массив\n",
    "\n",
    "\n",
    "ds = Sent2textDataset(path_t_csv,path_i_json,\n",
    "                      path_i_folder,\n",
    "                      text_tokenizer,img_transfrom,\n",
    "                      down_data = False,check_img = False,\n",
    "                      n_classes = 5)"
   ]
  },
  {
   "cell_type": "code",
   "execution_count": 7,
   "id": "hidden-british",
   "metadata": {},
   "outputs": [],
   "source": [
    "from torch.nn import CrossEntropyLoss\n",
    "from torch.optim import Adam"
   ]
  },
  {
   "cell_type": "code",
   "execution_count": 8,
   "id": "documented-arabic",
   "metadata": {},
   "outputs": [
    {
     "data": {
      "text/plain": [
       "['logit_scale',\n",
       " 'visual_encoder.projection.linear1.weight',\n",
       " 'visual_encoder.projection.linear2.weight',\n",
       " 'visual_encoder.projection.layer_norm.weight',\n",
       " 'visual_encoder.projection.layer_norm.bias',\n",
       " 'text_encoder.projection.linear1.weight',\n",
       " 'text_encoder.projection.linear2.weight',\n",
       " 'text_encoder.projection.layer_norm.weight',\n",
       " 'text_encoder.projection.layer_norm.bias']"
      ]
     },
     "execution_count": 8,
     "metadata": {},
     "output_type": "execute_result"
    }
   ],
   "source": [
    "model = model.cuda().float()\n",
    "for name,param in model.named_parameters():\n",
    "    if name.find(\"visual_encoder\") != -1:\n",
    "        param.requires_grad = False\n",
    "    if name.find(\"text_encoder\")!= -1:\n",
    "        param.requires_grad = False\n",
    "        \n",
    "    if name.find(\"8\")!=-1 and name.find(\"visual_encoder\")== -1:\n",
    "        param.requires_grad = True\n",
    "        \n",
    "    if name.find(\"projection\")!=-1:\n",
    "        param.requires_grad = True\n",
    "    if name == \"logit_scale\":\n",
    "        param.requires_grad = True\n",
    "        \n",
    "    \n",
    "[name for name,param in model.named_parameters() if param.requires_grad ]"
   ]
  },
  {
   "cell_type": "code",
   "execution_count": 9,
   "id": "logical-owner",
   "metadata": {},
   "outputs": [],
   "source": [
    "loss = CrossEntropyLoss()\n",
    "optimizer = Adam([param for param in model.parameters() if param.requires_grad], lr = 1e-04, weight_decay = 1e-05)\n"
   ]
  },
  {
   "cell_type": "code",
   "execution_count": 10,
   "id": "minute-pattern",
   "metadata": {},
   "outputs": [],
   "source": [
    "train_dl,val_dl =  sempler(ds, batch_size=20)"
   ]
  },
  {
   "cell_type": "code",
   "execution_count": 11,
   "id": "coated-croatia",
   "metadata": {},
   "outputs": [
    {
     "name": "stdout",
     "output_type": "stream",
     "text": [
      "0\n",
      "Average loss: 3.684065, Val loss: 3.978025, Train accuracy: 0.515351, Val accuracy: 0.518112\n",
      "1\n"
     ]
    },
    {
     "ename": "KeyboardInterrupt",
     "evalue": "",
     "output_type": "error",
     "traceback": [
      "\u001b[0;31m---------------------------------------------------------------------------\u001b[0m",
      "\u001b[0;31mKeyboardInterrupt\u001b[0m                         Traceback (most recent call last)",
      "\u001b[0;32m<ipython-input-11-8c27012bf10f>\u001b[0m in \u001b[0;36m<module>\u001b[0;34m\u001b[0m\n\u001b[0;32m----> 1\u001b[0;31m \u001b[0mresult\u001b[0m \u001b[0;34m=\u001b[0m \u001b[0mtrain_model\u001b[0m\u001b[0;34m(\u001b[0m\u001b[0mmodel\u001b[0m\u001b[0;34m,\u001b[0m \u001b[0mtrain_dl\u001b[0m\u001b[0;34m,\u001b[0m \u001b[0mval_dl\u001b[0m\u001b[0;34m,\u001b[0m \u001b[0mloss\u001b[0m\u001b[0;34m,\u001b[0m \u001b[0moptimizer\u001b[0m\u001b[0;34m,\u001b[0m \u001b[0;36m64\u001b[0m\u001b[0;34m)\u001b[0m\u001b[0;34m\u001b[0m\u001b[0;34m\u001b[0m\u001b[0m\n\u001b[0m",
      "\u001b[0;32m<ipython-input-4-ef0ca5154e8d>\u001b[0m in \u001b[0;36mtrain_model\u001b[0;34m(model, train_loader, val_loader, loss, optimizer, num_epochs)\u001b[0m\n\u001b[1;32m     67\u001b[0m \u001b[0;31m#         writer.add_scalar(\"F1/train\", f1_score(metric_y,metric_p), epoch)\u001b[0m\u001b[0;34m\u001b[0m\u001b[0;34m\u001b[0m\u001b[0;34m\u001b[0m\u001b[0m\n\u001b[1;32m     68\u001b[0m \u001b[0;34m\u001b[0m\u001b[0m\n\u001b[0;32m---> 69\u001b[0;31m         \u001b[0mval_accuracy\u001b[0m\u001b[0;34m,\u001b[0m \u001b[0mloss_val\u001b[0m\u001b[0;34m,\u001b[0m\u001b[0mmetric_y_val\u001b[0m\u001b[0;34m,\u001b[0m \u001b[0mmetric_p_val\u001b[0m \u001b[0;34m=\u001b[0m \u001b[0mcompute_valid\u001b[0m\u001b[0;34m(\u001b[0m\u001b[0mmodel\u001b[0m\u001b[0;34m,\u001b[0m \u001b[0mval_loader\u001b[0m\u001b[0;34m,\u001b[0m \u001b[0mloss\u001b[0m\u001b[0;34m,\u001b[0m \u001b[0mepoch\u001b[0m\u001b[0;34m,\u001b[0m\u001b[0mmetric_y_val\u001b[0m\u001b[0;34m,\u001b[0m \u001b[0mmetric_p_val\u001b[0m\u001b[0;34m)\u001b[0m\u001b[0;34m\u001b[0m\u001b[0;34m\u001b[0m\u001b[0m\n\u001b[0m\u001b[1;32m     70\u001b[0m \u001b[0;31m#         writer.add_scalar(\"Loss/valid\", loss_val, epoch)\u001b[0m\u001b[0;34m\u001b[0m\u001b[0;34m\u001b[0m\u001b[0;34m\u001b[0m\u001b[0m\n\u001b[1;32m     71\u001b[0m \u001b[0;31m#         writer.add_scalar(\"Acc/valid\", val_accuracy, epoch)\u001b[0m\u001b[0;34m\u001b[0m\u001b[0;34m\u001b[0m\u001b[0;34m\u001b[0m\u001b[0m\n",
      "\u001b[0;32m<ipython-input-4-ef0ca5154e8d>\u001b[0m in \u001b[0;36mcompute_valid\u001b[0;34m(model, loader, loss, epoch, metric_y, metric_p)\u001b[0m\n\u001b[1;32m     99\u001b[0m             \u001b[0mlabel_gpu\u001b[0m \u001b[0;34m=\u001b[0m \u001b[0mtorch\u001b[0m\u001b[0;34m.\u001b[0m\u001b[0marange\u001b[0m\u001b[0;34m(\u001b[0m\u001b[0mdata\u001b[0m\u001b[0;34m[\u001b[0m\u001b[0;36m0\u001b[0m\u001b[0;34m]\u001b[0m\u001b[0;34m.\u001b[0m\u001b[0mshape\u001b[0m\u001b[0;34m[\u001b[0m\u001b[0;36m0\u001b[0m\u001b[0;34m]\u001b[0m\u001b[0;34m)\u001b[0m\u001b[0;34m.\u001b[0m\u001b[0mcuda\u001b[0m\u001b[0;34m(\u001b[0m\u001b[0;34m)\u001b[0m\u001b[0;34m\u001b[0m\u001b[0;34m\u001b[0m\u001b[0m\n\u001b[1;32m    100\u001b[0m \u001b[0;34m\u001b[0m\u001b[0m\n\u001b[0;32m--> 101\u001b[0;31m             _, prediction = model(img_input={\"x\": imgs_gpu},\n\u001b[0m\u001b[1;32m    102\u001b[0m                                     text_input={\"x\": texts_gpu, \"attention_mask\":att_mask_gpu})\n\u001b[1;32m    103\u001b[0m \u001b[0;34m\u001b[0m\u001b[0m\n",
      "\u001b[0;32m~/.miniconda3/lib/python3.8/site-packages/torch/nn/modules/module.py\u001b[0m in \u001b[0;36m_call_impl\u001b[0;34m(self, *input, **kwargs)\u001b[0m\n\u001b[1;32m    887\u001b[0m             \u001b[0mresult\u001b[0m \u001b[0;34m=\u001b[0m \u001b[0mself\u001b[0m\u001b[0;34m.\u001b[0m\u001b[0m_slow_forward\u001b[0m\u001b[0;34m(\u001b[0m\u001b[0;34m*\u001b[0m\u001b[0minput\u001b[0m\u001b[0;34m,\u001b[0m \u001b[0;34m**\u001b[0m\u001b[0mkwargs\u001b[0m\u001b[0;34m)\u001b[0m\u001b[0;34m\u001b[0m\u001b[0;34m\u001b[0m\u001b[0m\n\u001b[1;32m    888\u001b[0m         \u001b[0;32melse\u001b[0m\u001b[0;34m:\u001b[0m\u001b[0;34m\u001b[0m\u001b[0;34m\u001b[0m\u001b[0m\n\u001b[0;32m--> 889\u001b[0;31m             \u001b[0mresult\u001b[0m \u001b[0;34m=\u001b[0m \u001b[0mself\u001b[0m\u001b[0;34m.\u001b[0m\u001b[0mforward\u001b[0m\u001b[0;34m(\u001b[0m\u001b[0;34m*\u001b[0m\u001b[0minput\u001b[0m\u001b[0;34m,\u001b[0m \u001b[0;34m**\u001b[0m\u001b[0mkwargs\u001b[0m\u001b[0;34m)\u001b[0m\u001b[0;34m\u001b[0m\u001b[0;34m\u001b[0m\u001b[0m\n\u001b[0m\u001b[1;32m    890\u001b[0m         for hook in itertools.chain(\n\u001b[1;32m    891\u001b[0m                 \u001b[0m_global_forward_hooks\u001b[0m\u001b[0;34m.\u001b[0m\u001b[0mvalues\u001b[0m\u001b[0;34m(\u001b[0m\u001b[0;34m)\u001b[0m\u001b[0;34m,\u001b[0m\u001b[0;34m\u001b[0m\u001b[0;34m\u001b[0m\u001b[0m\n",
      "\u001b[0;32m/data/hdd1/brain/BraTS19/YandexCup/clip/model.py\u001b[0m in \u001b[0;36mforward\u001b[0;34m(self, img_input, text_input)\u001b[0m\n\u001b[1;32m     65\u001b[0m     \u001b[0;32mdef\u001b[0m \u001b[0mforward\u001b[0m\u001b[0;34m(\u001b[0m\u001b[0mself\u001b[0m\u001b[0;34m,\u001b[0m \u001b[0mimg_input\u001b[0m\u001b[0;34m,\u001b[0m \u001b[0mtext_input\u001b[0m\u001b[0;34m)\u001b[0m\u001b[0;34m:\u001b[0m\u001b[0;34m\u001b[0m\u001b[0;34m\u001b[0m\u001b[0m\n\u001b[1;32m     66\u001b[0m         \u001b[0mimage_features\u001b[0m \u001b[0;34m=\u001b[0m \u001b[0mself\u001b[0m\u001b[0;34m.\u001b[0m\u001b[0mvisual_encoder\u001b[0m\u001b[0;34m(\u001b[0m\u001b[0;34m**\u001b[0m\u001b[0mimg_input\u001b[0m\u001b[0;34m)\u001b[0m\u001b[0;34m\u001b[0m\u001b[0;34m\u001b[0m\u001b[0m\n\u001b[0;32m---> 67\u001b[0;31m         \u001b[0mtext_features\u001b[0m \u001b[0;34m=\u001b[0m \u001b[0mself\u001b[0m\u001b[0;34m.\u001b[0m\u001b[0mtext_encoder\u001b[0m\u001b[0;34m(\u001b[0m\u001b[0;34m**\u001b[0m\u001b[0mtext_input\u001b[0m\u001b[0;34m)\u001b[0m\u001b[0;34m\u001b[0m\u001b[0;34m\u001b[0m\u001b[0m\n\u001b[0m\u001b[1;32m     68\u001b[0m         \u001b[0mlogit_scale\u001b[0m \u001b[0;34m=\u001b[0m \u001b[0mself\u001b[0m\u001b[0;34m.\u001b[0m\u001b[0mlogit_scale\u001b[0m\u001b[0;34m.\u001b[0m\u001b[0mexp\u001b[0m\u001b[0;34m(\u001b[0m\u001b[0;34m)\u001b[0m\u001b[0;34m\u001b[0m\u001b[0;34m\u001b[0m\u001b[0m\n\u001b[1;32m     69\u001b[0m         \u001b[0mlogits_per_image\u001b[0m \u001b[0;34m=\u001b[0m \u001b[0mlogit_scale\u001b[0m \u001b[0;34m*\u001b[0m \u001b[0mimage_features\u001b[0m \u001b[0;34m@\u001b[0m \u001b[0mtext_features\u001b[0m\u001b[0;34m.\u001b[0m\u001b[0mt\u001b[0m\u001b[0;34m(\u001b[0m\u001b[0;34m)\u001b[0m\u001b[0;34m\u001b[0m\u001b[0;34m\u001b[0m\u001b[0m\n",
      "\u001b[0;32m~/.miniconda3/lib/python3.8/site-packages/torch/nn/modules/module.py\u001b[0m in \u001b[0;36m_call_impl\u001b[0;34m(self, *input, **kwargs)\u001b[0m\n\u001b[1;32m    887\u001b[0m             \u001b[0mresult\u001b[0m \u001b[0;34m=\u001b[0m \u001b[0mself\u001b[0m\u001b[0;34m.\u001b[0m\u001b[0m_slow_forward\u001b[0m\u001b[0;34m(\u001b[0m\u001b[0;34m*\u001b[0m\u001b[0minput\u001b[0m\u001b[0;34m,\u001b[0m \u001b[0;34m**\u001b[0m\u001b[0mkwargs\u001b[0m\u001b[0;34m)\u001b[0m\u001b[0;34m\u001b[0m\u001b[0;34m\u001b[0m\u001b[0m\n\u001b[1;32m    888\u001b[0m         \u001b[0;32melse\u001b[0m\u001b[0;34m:\u001b[0m\u001b[0;34m\u001b[0m\u001b[0;34m\u001b[0m\u001b[0m\n\u001b[0;32m--> 889\u001b[0;31m             \u001b[0mresult\u001b[0m \u001b[0;34m=\u001b[0m \u001b[0mself\u001b[0m\u001b[0;34m.\u001b[0m\u001b[0mforward\u001b[0m\u001b[0;34m(\u001b[0m\u001b[0;34m*\u001b[0m\u001b[0minput\u001b[0m\u001b[0;34m,\u001b[0m \u001b[0;34m**\u001b[0m\u001b[0mkwargs\u001b[0m\u001b[0;34m)\u001b[0m\u001b[0;34m\u001b[0m\u001b[0;34m\u001b[0m\u001b[0m\n\u001b[0m\u001b[1;32m    890\u001b[0m         for hook in itertools.chain(\n\u001b[1;32m    891\u001b[0m                 \u001b[0m_global_forward_hooks\u001b[0m\u001b[0;34m.\u001b[0m\u001b[0mvalues\u001b[0m\u001b[0;34m(\u001b[0m\u001b[0;34m)\u001b[0m\u001b[0;34m,\u001b[0m\u001b[0;34m\u001b[0m\u001b[0;34m\u001b[0m\u001b[0m\n",
      "\u001b[0;32m/data/hdd1/brain/BraTS19/YandexCup/clip/model.py\u001b[0m in \u001b[0;36mforward\u001b[0;34m(self, x, **kwargs)\u001b[0m\n\u001b[1;32m     48\u001b[0m \u001b[0;34m\u001b[0m\u001b[0m\n\u001b[1;32m     49\u001b[0m     \u001b[0;32mdef\u001b[0m \u001b[0mforward\u001b[0m\u001b[0;34m(\u001b[0m\u001b[0mself\u001b[0m\u001b[0;34m,\u001b[0m \u001b[0mx\u001b[0m\u001b[0;34m:\u001b[0m \u001b[0mtorch\u001b[0m\u001b[0;34m.\u001b[0m\u001b[0mTensor\u001b[0m\u001b[0;34m,\u001b[0m \u001b[0;34m**\u001b[0m\u001b[0mkwargs\u001b[0m\u001b[0;34m)\u001b[0m\u001b[0;34m:\u001b[0m\u001b[0;34m\u001b[0m\u001b[0;34m\u001b[0m\u001b[0m\n\u001b[0;32m---> 50\u001b[0;31m         \u001b[0mx\u001b[0m \u001b[0;34m=\u001b[0m \u001b[0mself\u001b[0m\u001b[0;34m.\u001b[0m\u001b[0mmodel\u001b[0m\u001b[0;34m(\u001b[0m\u001b[0mx\u001b[0m\u001b[0;34m,\u001b[0m \u001b[0;34m**\u001b[0m\u001b[0mkwargs\u001b[0m\u001b[0;34m)\u001b[0m\u001b[0;34m[\u001b[0m\u001b[0;36m0\u001b[0m\u001b[0;34m]\u001b[0m\u001b[0;34m[\u001b[0m\u001b[0;34m(\u001b[0m\u001b[0mx\u001b[0m \u001b[0;34m==\u001b[0m \u001b[0mself\u001b[0m\u001b[0;34m.\u001b[0m\u001b[0meos_token_id\u001b[0m\u001b[0;34m)\u001b[0m\u001b[0;34m.\u001b[0m\u001b[0mnonzero\u001b[0m\u001b[0;34m(\u001b[0m\u001b[0mas_tuple\u001b[0m\u001b[0;34m=\u001b[0m\u001b[0;32mTrue\u001b[0m\u001b[0;34m)\u001b[0m\u001b[0;34m]\u001b[0m\u001b[0;34m\u001b[0m\u001b[0;34m\u001b[0m\u001b[0m\n\u001b[0m\u001b[1;32m     51\u001b[0m         \u001b[0;31m# print(x.shape)\u001b[0m\u001b[0;34m\u001b[0m\u001b[0;34m\u001b[0m\u001b[0;34m\u001b[0m\u001b[0m\n\u001b[1;32m     52\u001b[0m         \u001b[0mx\u001b[0m \u001b[0;34m=\u001b[0m \u001b[0mself\u001b[0m\u001b[0;34m.\u001b[0m\u001b[0mprojection\u001b[0m\u001b[0;34m(\u001b[0m\u001b[0mx\u001b[0m\u001b[0;34m)\u001b[0m\u001b[0;34m\u001b[0m\u001b[0;34m\u001b[0m\u001b[0m\n",
      "\u001b[0;31mKeyboardInterrupt\u001b[0m: "
     ]
    }
   ],
   "source": [
    "result = train_model(model, train_dl, val_dl, loss, optimizer, 64)"
   ]
  },
  {
   "cell_type": "code",
   "execution_count": null,
   "id": "rolled-defeat",
   "metadata": {},
   "outputs": [],
   "source": []
  }
 ],
 "metadata": {
  "kernelspec": {
   "display_name": "Python 3",
   "language": "python",
   "name": "python3"
  },
  "language_info": {
   "codemirror_mode": {
    "name": "ipython",
    "version": 3
   },
   "file_extension": ".py",
   "mimetype": "text/x-python",
   "name": "python",
   "nbconvert_exporter": "python",
   "pygments_lexer": "ipython3",
   "version": "3.8.5"
  }
 },
 "nbformat": 4,
 "nbformat_minor": 5
}
